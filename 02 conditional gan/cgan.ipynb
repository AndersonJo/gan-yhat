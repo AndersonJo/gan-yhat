{
 "cells": [
  {
   "cell_type": "code",
   "execution_count": 1,
   "metadata": {},
   "outputs": [
    {
     "name": "stdout",
     "output_type": "stream",
     "text": [
      "Populating the interactive namespace from numpy and matplotlib\n"
     ]
    }
   ],
   "source": [
    "%pylab inline\n",
    "import numpy as np\n",
    "import torch\n",
    "\n",
    "from torch import nn\n",
    "from torch import optim\n",
    "from torch.nn import functional as F\n",
    "from torch.autograd import Variable\n",
    "from torch.utils.data import dataloader\n",
    "\n",
    "from torchvision import transforms\n",
    "from torchvision.datasets import MNIST\n",
    "\n",
    "from graphviz import Digraph"
   ]
  },
  {
   "cell_type": "markdown",
   "metadata": {},
   "source": [
    "# Configuration"
   ]
  },
  {
   "cell_type": "code",
   "execution_count": 2,
   "metadata": {},
   "outputs": [],
   "source": [
    "BATCH_SIZE = 96\n",
    "LABEL_SIZE = 10\n",
    "CUDA = True"
   ]
  },
  {
   "cell_type": "markdown",
   "metadata": {},
   "source": [
    "# MNIST DATA"
   ]
  },
  {
   "cell_type": "code",
   "execution_count": 3,
   "metadata": {},
   "outputs": [],
   "source": [
    "train = MNIST('./data', train=True, download=True, transform=transforms.Compose([\n",
    "    transforms.ToTensor(), # ToTensor does min-max normalization. \n",
    "]), )\n",
    "\n",
    "test = MNIST('./data', train=False, download=True, transform=transforms.Compose([\n",
    "    transforms.ToTensor(), # ToTensor does min-max normalization. \n",
    "]), )\n",
    "\n",
    "# Create DataLoader\n",
    "dataloader_args = dict(shuffle=True, batch_size=BATCH_SIZE ,num_workers=1, pin_memory=True)\n",
    "train_loader = dataloader.DataLoader(train, **dataloader_args)\n",
    "test_loader = dataloader.DataLoader(test, **dataloader_args)"
   ]
  },
  {
   "cell_type": "markdown",
   "metadata": {},
   "source": [
    "# GAN"
   ]
  },
  {
   "cell_type": "markdown",
   "metadata": {},
   "source": [
    "## Discriminator"
   ]
  },
  {
   "cell_type": "code",
   "execution_count": 4,
   "metadata": {},
   "outputs": [
    {
     "name": "stdout",
     "output_type": "stream",
     "text": [
      "Discriminator(\n",
      "  (linear1): Linear(in_features=794, out_features=512)\n",
      "  (linear2): Linear(in_features=512, out_features=256)\n",
      "  (linear3): Linear(in_features=256, out_features=1)\n",
      ")\n"
     ]
    }
   ],
   "source": [
    "class Discriminator(nn.Module):\n",
    "    def __init__(self):\n",
    "        super(Discriminator, self).__init__()\n",
    "        self.linear1 = torch.nn.Linear(784 + LABEL_SIZE, 512, bias=True)\n",
    "        self.linear2 = torch.nn.Linear(512, 256, bias=True)\n",
    "        self.linear3 = torch.nn.Linear(256, 1, bias=True)\n",
    "        \n",
    "        # Xavier Initialization\n",
    "        self._init_weight(self.linear1)\n",
    "        self._init_weight(self.linear2)\n",
    "        self._init_weight(self.linear3)\n",
    "    \n",
    "    def _init_weight(self, layer):\n",
    "        layer.weight = torch.nn.init.xavier_normal(layer.weight)\n",
    "        \n",
    "    def forward(self, x, y):\n",
    "#         print(x.size())\n",
    "        x = x.view((-1, 784))\n",
    "        inputs = torch.cat([x, y], 1)\n",
    "        \n",
    "        h = self.linear1(inputs)\n",
    "        h = F.leaky_relu(h)\n",
    "        h = F.dropout(h, p=0.2, training=self.training)\n",
    "        \n",
    "        h = self.linear2(h)\n",
    "        h = F.leaky_relu(h)\n",
    "        h = F.dropout(h, p=0.2, training=self.training)\n",
    "        \n",
    "        h = self.linear3(h)\n",
    "        out = F.sigmoid(h)\n",
    "        return out\n",
    "        \n",
    "\n",
    "D = Discriminator()\n",
    "if CUDA:\n",
    "    print(D.cuda()) # CUDA!\n",
    "d_optimizer = optim.Adam(D.parameters(), lr=0.001)"
   ]
  },
  {
   "cell_type": "markdown",
   "metadata": {},
   "source": [
    "## Generator"
   ]
  },
  {
   "cell_type": "code",
   "execution_count": 5,
   "metadata": {},
   "outputs": [
    {
     "name": "stdout",
     "output_type": "stream",
     "text": [
      "Generator(\n",
      "  (linear1): Linear(in_features=110, out_features=196)\n",
      "  (linear2): Linear(in_features=196, out_features=256)\n",
      "  (linear3): Linear(in_features=256, out_features=320)\n",
      "  (linear4): Linear(in_features=320, out_features=384)\n",
      "  (linear5): Linear(in_features=384, out_features=512)\n",
      "  (linear6): Linear(in_features=512, out_features=640)\n",
      "  (linear7): Linear(in_features=640, out_features=784)\n",
      "  (bc1): BatchNorm1d(196, eps=1e-05, momentum=0.1, affine=True)\n",
      "  (bc2): BatchNorm1d(256, eps=1e-05, momentum=0.1, affine=True)\n",
      "  (bc3): BatchNorm1d(320, eps=1e-05, momentum=0.1, affine=True)\n",
      "  (bc4): BatchNorm1d(384, eps=1e-05, momentum=0.1, affine=True)\n",
      "  (bc5): BatchNorm1d(512, eps=1e-05, momentum=0.1, affine=True)\n",
      "  (bc6): BatchNorm1d(640, eps=1e-05, momentum=0.1, affine=True)\n",
      "  (bc7): BatchNorm1d(784, eps=1e-05, momentum=0.1, affine=True)\n",
      ")\n"
     ]
    }
   ],
   "source": [
    "class Generator(nn.Module):\n",
    "    def __init__(self):\n",
    "        super(Generator, self).__init__()\n",
    "        self.linear1 = nn.Linear(100 + LABEL_SIZE, 196)\n",
    "        self.linear2 = nn.Linear(196, 256)\n",
    "        self.linear3 = nn.Linear(256, 320)\n",
    "        self.linear4 = nn.Linear(320, 384)\n",
    "        self.linear5 = nn.Linear(384, 512)\n",
    "        self.linear6 = nn.Linear(512, 640)\n",
    "        self.linear7 = nn.Linear(640, 784)\n",
    "        \n",
    "        self.bc1 = nn.BatchNorm1d(196)\n",
    "        self.bc2 = nn.BatchNorm1d(256)\n",
    "        self.bc3 = nn.BatchNorm1d(320)\n",
    "        self.bc4 = nn.BatchNorm1d(384)\n",
    "        self.bc5 = nn.BatchNorm1d(512)\n",
    "        self.bc6 = nn.BatchNorm1d(640)\n",
    "        self.bc7 = nn.BatchNorm1d(784)\n",
    "        \n",
    "        \n",
    "        # Xavier Initialization\n",
    "        self._init_weight(self.linear1)\n",
    "        self._init_weight(self.linear2)\n",
    "        self._init_weight(self.linear3)\n",
    "        self._init_weight(self.linear4)\n",
    "    \n",
    "    def _init_weight(self, layer):\n",
    "        layer.weight = torch.nn.init.xavier_normal(layer.weight)\n",
    "        \n",
    "    def forward(self, x, y):\n",
    "        inputs = torch.cat([x, y], 1)\n",
    "        \n",
    "        h = self.linear1(inputs)\n",
    "        h = self.bc1(h)\n",
    "        h = F.leaky_relu(h)\n",
    "        h = F.dropout(h, p=0.5, training=self.training)\n",
    "        \n",
    "        h = self.linear2(h)\n",
    "        h = self.bc2(h)\n",
    "        h = F.leaky_relu(h)\n",
    "        h = F.dropout(h, p=0.5, training=self.training)\n",
    "        \n",
    "        h = self.linear3(h)\n",
    "        h = self.bc3(h)\n",
    "        h = F.leaky_relu(h)\n",
    "        h = F.dropout(h, p=0.5, training=self.training)\n",
    "        \n",
    "        h = self.linear4(h)\n",
    "        h = self.bc4(h)\n",
    "        h = F.leaky_relu(h)\n",
    "        h = F.dropout(h, p=0.5, training=self.training)\n",
    "        \n",
    "        h = self.linear5(h)\n",
    "        h = self.bc5(h)\n",
    "        h = F.leaky_relu(h)\n",
    "        h = F.dropout(h, p=0.5, training=self.training)\n",
    "        \n",
    "        h = self.linear6(h)\n",
    "        h = self.bc6(h)\n",
    "        h = F.leaky_relu(h)\n",
    "        h = F.dropout(h, p=0.5, training=self.training)\n",
    "        \n",
    "        h = self.linear7(h)\n",
    "        h = self.bc7(h)\n",
    "        out = F.sigmoid(h)\n",
    "        return out\n",
    "        \n",
    "G = Generator()\n",
    "if CUDA:\n",
    "    print(G.cuda())\n",
    "g_optimizer = optim.Adam(G.parameters(), lr=0.001)"
   ]
  },
  {
   "cell_type": "markdown",
   "metadata": {},
   "source": [
    "# Train\n",
    "\n",
    "* $ 1 $ : real images\n",
    "* $ 0 $ : fake images"
   ]
  },
  {
   "cell_type": "code",
   "execution_count": 6,
   "metadata": {},
   "outputs": [],
   "source": [
    "N_EPOCH = 50\n",
    "\n",
    "real_y = Variable(torch.ones((BATCH_SIZE, 1)).cuda())\n",
    "fake_y = Variable(torch.zeros((BATCH_SIZE, 1)).cuda())\n",
    "loss_f = nn.BCELoss()\n",
    "\n",
    "d_real_losses = list()\n",
    "d_fake_losses = list()\n",
    "d_losses = list()\n",
    "g_losses = list()\n",
    "divergences = list()"
   ]
  },
  {
   "cell_type": "code",
   "execution_count": 17,
   "metadata": {},
   "outputs": [
    {
     "name": "stdout",
     "output_type": "stream",
     "text": [
      "[1/50] divergence: 0.905    D: 0.154    D_real: 0.192    D_fake: 0.154    G:4.2     \n",
      "[2/50] divergence: 0.905    D: 0.156    D_real: 0.191    D_fake: 0.156    G:4.25    \n",
      "[3/50] divergence: 0.91     D: 0.139    D_real: 0.181    D_fake: 0.139    G:4.28    \n",
      "[4/50] divergence: 0.912    D: 0.14     D_real: 0.178    D_fake: 0.14     G:4.3     \n",
      "[5/50] divergence: 0.911    D: 0.143    D_real: 0.18     D_fake: 0.143    G:4.27    \n",
      "[6/50] divergence: 0.915    D: 0.137    D_real: 0.173    D_fake: 0.137    G:4.3     \n",
      "[7/50] divergence: 0.91     D: 0.147    D_real: 0.185    D_fake: 0.147    G:4.35    \n",
      "[8/50] divergence: 0.916    D: 0.134    D_real: 0.171    D_fake: 0.134    G:4.32    \n",
      "[9/50] divergence: 0.917    D: 0.131    D_real: 0.175    D_fake: 0.131    G:4.4     \n",
      "[10/50] divergence: 0.918    D: 0.132    D_real: 0.17     D_fake: 0.132    G:4.37    \n",
      "[11/50] divergence: 0.919    D: 0.13     D_real: 0.161    D_fake: 0.13     G:4.46    \n",
      "[12/50] divergence: 0.918    D: 0.139    D_real: 0.174    D_fake: 0.139    G:4.38    \n",
      "[13/50] divergence: 0.92     D: 0.137    D_real: 0.154    D_fake: 0.137    G:4.29    \n",
      "[14/50] divergence: 0.92     D: 0.134    D_real: 0.155    D_fake: 0.134    G:4.3     "
     ]
    },
    {
     "name": "stderr",
     "output_type": "stream",
     "text": [
      "Process Process-73:\n",
      "  File \"/usr/local/lib/python3.6/site-packages/torchvision-0.2.0-py3.6.egg/torchvision/transforms/transforms.py\", line 42, in __call__\n",
      "    img = t(img)\n",
      "Traceback (most recent call last):\n",
      "  File \"/usr/local/lib/python3.6/multiprocessing/process.py\", line 258, in _bootstrap\n",
      "    self.run()\n"
     ]
    },
    {
     "ename": "KeyboardInterrupt",
     "evalue": "",
     "output_type": "error",
     "traceback": [
      "\u001b[0;31m---------------------------------------------------------------------------\u001b[0m",
      "\u001b[0;31mKeyboardInterrupt\u001b[0m                         Traceback (most recent call last)",
      "\u001b[0;32m<ipython-input-17-075bd8f49a3f>\u001b[0m in \u001b[0;36m<module>\u001b[0;34m()\u001b[0m\n\u001b[1;32m     19\u001b[0m         \u001b[0;31m# Calculate the loss with real images\u001b[0m\u001b[0;34m\u001b[0m\u001b[0;34m\u001b[0m\u001b[0m\n\u001b[1;32m     20\u001b[0m         \u001b[0my_real_pred\u001b[0m \u001b[0;34m=\u001b[0m \u001b[0mD\u001b[0m\u001b[0;34m(\u001b[0m\u001b[0mreal_images\u001b[0m\u001b[0;34m,\u001b[0m \u001b[0my_onehot\u001b[0m\u001b[0;34m)\u001b[0m\u001b[0;34m\u001b[0m\u001b[0m\n\u001b[0;32m---> 21\u001b[0;31m         \u001b[0md_real_loss\u001b[0m \u001b[0;34m=\u001b[0m \u001b[0mloss_f\u001b[0m\u001b[0;34m(\u001b[0m\u001b[0my_real_pred\u001b[0m\u001b[0;34m,\u001b[0m \u001b[0mreal_y\u001b[0m\u001b[0;34m)\u001b[0m\u001b[0;34m\u001b[0m\u001b[0m\n\u001b[0m\u001b[1;32m     22\u001b[0m \u001b[0;31m#         d_real_loss.backward()\u001b[0m\u001b[0;34m\u001b[0m\u001b[0;34m\u001b[0m\u001b[0m\n\u001b[1;32m     23\u001b[0m \u001b[0;31m#         d_optimizer.step()\u001b[0m\u001b[0;34m\u001b[0m\u001b[0;34m\u001b[0m\u001b[0m\n",
      "\u001b[0;32m/usr/local/lib/python3.6/site-packages/torch/nn/modules/module.py\u001b[0m in \u001b[0;36m__call__\u001b[0;34m(self, *input, **kwargs)\u001b[0m\n\u001b[1;32m    323\u001b[0m         \u001b[0;32mfor\u001b[0m \u001b[0mhook\u001b[0m \u001b[0;32min\u001b[0m \u001b[0mself\u001b[0m\u001b[0;34m.\u001b[0m\u001b[0m_forward_pre_hooks\u001b[0m\u001b[0;34m.\u001b[0m\u001b[0mvalues\u001b[0m\u001b[0;34m(\u001b[0m\u001b[0;34m)\u001b[0m\u001b[0;34m:\u001b[0m\u001b[0;34m\u001b[0m\u001b[0m\n\u001b[1;32m    324\u001b[0m             \u001b[0mhook\u001b[0m\u001b[0;34m(\u001b[0m\u001b[0mself\u001b[0m\u001b[0;34m,\u001b[0m \u001b[0minput\u001b[0m\u001b[0;34m)\u001b[0m\u001b[0;34m\u001b[0m\u001b[0m\n\u001b[0;32m--> 325\u001b[0;31m         \u001b[0mresult\u001b[0m \u001b[0;34m=\u001b[0m \u001b[0mself\u001b[0m\u001b[0;34m.\u001b[0m\u001b[0mforward\u001b[0m\u001b[0;34m(\u001b[0m\u001b[0;34m*\u001b[0m\u001b[0minput\u001b[0m\u001b[0;34m,\u001b[0m \u001b[0;34m**\u001b[0m\u001b[0mkwargs\u001b[0m\u001b[0;34m)\u001b[0m\u001b[0;34m\u001b[0m\u001b[0m\n\u001b[0m\u001b[1;32m    326\u001b[0m         \u001b[0;32mfor\u001b[0m \u001b[0mhook\u001b[0m \u001b[0;32min\u001b[0m \u001b[0mself\u001b[0m\u001b[0;34m.\u001b[0m\u001b[0m_forward_hooks\u001b[0m\u001b[0;34m.\u001b[0m\u001b[0mvalues\u001b[0m\u001b[0;34m(\u001b[0m\u001b[0;34m)\u001b[0m\u001b[0;34m:\u001b[0m\u001b[0;34m\u001b[0m\u001b[0m\n\u001b[1;32m    327\u001b[0m             \u001b[0mhook_result\u001b[0m \u001b[0;34m=\u001b[0m \u001b[0mhook\u001b[0m\u001b[0;34m(\u001b[0m\u001b[0mself\u001b[0m\u001b[0;34m,\u001b[0m \u001b[0minput\u001b[0m\u001b[0;34m,\u001b[0m \u001b[0mresult\u001b[0m\u001b[0;34m)\u001b[0m\u001b[0;34m\u001b[0m\u001b[0m\n",
      "\u001b[0;32m/usr/local/lib/python3.6/site-packages/torch/nn/modules/loss.py\u001b[0m in \u001b[0;36mforward\u001b[0;34m(self, input, target)\u001b[0m\n\u001b[1;32m    370\u001b[0m         \u001b[0m_assert_no_grad\u001b[0m\u001b[0;34m(\u001b[0m\u001b[0mtarget\u001b[0m\u001b[0;34m)\u001b[0m\u001b[0;34m\u001b[0m\u001b[0m\n\u001b[1;32m    371\u001b[0m         return F.binary_cross_entropy(input, target, weight=self.weight,\n\u001b[0;32m--> 372\u001b[0;31m                                       size_average=self.size_average)\n\u001b[0m\u001b[1;32m    373\u001b[0m \u001b[0;34m\u001b[0m\u001b[0m\n\u001b[1;32m    374\u001b[0m \u001b[0;34m\u001b[0m\u001b[0m\n",
      "\u001b[0;32m/usr/local/lib/python3.6/site-packages/torch/nn/functional.py\u001b[0m in \u001b[0;36mbinary_cross_entropy\u001b[0;34m(input, target, weight, size_average)\u001b[0m\n\u001b[1;32m   1177\u001b[0m             \u001b[0mweight\u001b[0m \u001b[0;34m=\u001b[0m \u001b[0mVariable\u001b[0m\u001b[0;34m(\u001b[0m\u001b[0mweight\u001b[0m\u001b[0;34m)\u001b[0m\u001b[0;34m\u001b[0m\u001b[0m\n\u001b[1;32m   1178\u001b[0m \u001b[0;34m\u001b[0m\u001b[0m\n\u001b[0;32m-> 1179\u001b[0;31m     \u001b[0;32mreturn\u001b[0m \u001b[0mtorch\u001b[0m\u001b[0;34m.\u001b[0m\u001b[0m_C\u001b[0m\u001b[0;34m.\u001b[0m\u001b[0m_nn\u001b[0m\u001b[0;34m.\u001b[0m\u001b[0mbinary_cross_entropy\u001b[0m\u001b[0;34m(\u001b[0m\u001b[0minput\u001b[0m\u001b[0;34m,\u001b[0m \u001b[0mtarget\u001b[0m\u001b[0;34m,\u001b[0m \u001b[0mweight\u001b[0m\u001b[0;34m,\u001b[0m \u001b[0msize_average\u001b[0m\u001b[0;34m)\u001b[0m\u001b[0;34m\u001b[0m\u001b[0m\n\u001b[0m\u001b[1;32m   1180\u001b[0m \u001b[0;34m\u001b[0m\u001b[0m\n\u001b[1;32m   1181\u001b[0m \u001b[0;34m\u001b[0m\u001b[0m\n",
      "\u001b[0;31mKeyboardInterrupt\u001b[0m: "
     ]
    },
    {
     "name": "stderr",
     "output_type": "stream",
     "text": [
      "  File \"/usr/local/lib/python3.6/multiprocessing/process.py\", line 93, in run\n",
      "    self._target(*self._args, **self._kwargs)\n",
      "  File \"/usr/local/lib/python3.6/site-packages/torch/utils/data/dataloader.py\", line 42, in _worker_loop\n",
      "    samples = collate_fn([dataset[i] for i in batch_indices])\n",
      "  File \"/usr/local/lib/python3.6/site-packages/torch/utils/data/dataloader.py\", line 42, in <listcomp>\n",
      "    samples = collate_fn([dataset[i] for i in batch_indices])\n",
      "  File \"/usr/local/lib/python3.6/site-packages/torchvision-0.2.0-py3.6.egg/torchvision/datasets/mnist.py\", line 77, in __getitem__\n",
      "    img = self.transform(img)\n",
      "  File \"/usr/local/lib/python3.6/site-packages/torchvision-0.2.0-py3.6.egg/torchvision/transforms/transforms.py\", line 69, in __call__\n",
      "    return F.to_tensor(pic)\n",
      "  File \"/usr/local/lib/python3.6/site-packages/torchvision-0.2.0-py3.6.egg/torchvision/transforms/functional.py\", line 63, in to_tensor\n",
      "    img = torch.ByteTensor(torch.ByteStorage.from_buffer(pic.tobytes()))\n",
      "KeyboardInterrupt\n"
     ]
    }
   ],
   "source": [
    "for epoch in range(N_EPOCH):\n",
    "    for step, (real_images, y) in enumerate(train_loader):\n",
    "        # Samples\n",
    "        real_images = Variable(real_images.cuda())\n",
    "        z = Variable(torch.randn((BATCH_SIZE, 100)).cuda())\n",
    "        \n",
    "        y = y.view(-1, 1)\n",
    "        y_onehot = torch.FloatTensor(BATCH_SIZE, LABEL_SIZE)\n",
    "        y_onehot.zero_()\n",
    "        y_onehot.scatter_(1, y, 1)\n",
    "        y_onehot = Variable(y_onehot).cuda()\n",
    "        \n",
    "        ###############################################\n",
    "        # Train D (But do not train G)\n",
    "        ###############################################\n",
    "        # Init D\n",
    "        d_optimizer.zero_grad()\n",
    "        \n",
    "        # Calculate the loss with real images\n",
    "        y_real_pred = D(real_images, y_onehot)\n",
    "        d_real_loss = loss_f(y_real_pred, real_y)\n",
    "#         d_real_loss.backward()\n",
    "#         d_optimizer.step()\n",
    "        \n",
    "        # Calculate the loss with fake images\n",
    "        fake_distributions = Variable(torch.randn((BATCH_SIZE, 100)).cuda())\n",
    "        fake_images = G(fake_distributions, y_onehot).detach()\n",
    "        y_fake_pred = D(fake_images, y_onehot)\n",
    "        d_fake_loss = loss_f(y_fake_pred, fake_y)\n",
    "#         d_fake_loss.backward()\n",
    "#         d_optimizer.step()\n",
    "        \n",
    "        # Update D with G not being updated        \n",
    "        d_loss = d_real_loss + d_fake_loss\n",
    "        d_loss.backward()\n",
    "        d_optimizer.step()\n",
    "        \n",
    "        \n",
    "        ###############################################\n",
    "        # Train G with fake images but do not train G\n",
    "        ###############################################\n",
    "        g_optimizer.zero_grad()\n",
    "        \n",
    "        fake_distributions = Variable(torch.randn((BATCH_SIZE, 100)).cuda())\n",
    "        fake_images = G(fake_distributions, y_onehot)\n",
    "        y_pred = D(fake_images, y_onehot)\n",
    "        g_loss = loss_f(y_pred, real_y)\n",
    "        g_loss.backward()\n",
    "        g_optimizer.step()\n",
    "        \n",
    "        \n",
    "        ###############################################\n",
    "        # Visualization\n",
    "        ###############################################\n",
    "        if step%5 == 0:\n",
    "            d_real_losses.append(d_real_loss.data[0])\n",
    "            d_fake_losses.append(d_fake_loss.data[0])\n",
    "            d_losses.append(d_loss.data[0])\n",
    "            g_losses.append(g_loss.data.cpu().numpy()[0])\n",
    "\n",
    "            divergences.append(torch.mean(y_real_pred/(y_real_pred+y_fake_pred)).data[0])\n",
    "        \n",
    "        if step % 50 == 0:\n",
    "            print(f'\\r[{epoch+1}/{N_EPOCH}]',\n",
    "                  # '{:.3}'.format(torch.mean(params[0]).data[0]),\n",
    "                  'divergence: {:<8.3}'.format(np.mean(divergences[-100:])),\n",
    "                  'D: {:<8.3}'.format(np.mean(d_fake_losses[-100:])), \n",
    "                  'D_real: {:<8.3}'.format(np.mean(d_real_losses[-100:])),\n",
    "                  'D_fake: {:<8.3}'.format(np.mean(d_fake_losses[-100:])), \n",
    "                  'G:{:<8.3}'.format(np.mean(g_losses[-100:])), end='')\n",
    "    print()"
   ]
  },
  {
   "cell_type": "markdown",
   "metadata": {},
   "source": [
    "# Visualization"
   ]
  },
  {
   "cell_type": "code",
   "execution_count": null,
   "metadata": {},
   "outputs": [],
   "source": [
    "def smooth(x,window_len=100,window='hanning'):\n",
    "    x = np.array(x)\n",
    "    \n",
    "    if x.ndim != 1:\n",
    "        raise ValueError(\"smooth only accepts 1 dimension arrays.\")\n",
    "\n",
    "    if x.size < window_len:\n",
    "        raise ValueError(\"Input vector needs to be bigger than window size.\")\n",
    "\n",
    "    if window_len<3:\n",
    "        return x\n",
    "\n",
    "    if not window in ['flat', 'hanning', 'hamming', 'bartlett', 'blackman']:\n",
    "        raise ValueError(\"Window is on of 'flat', 'hanning', 'hamming', 'bartlett', 'blackman'\")\n",
    "\n",
    "    s=numpy.r_[x[window_len-1:0:-1],x,x[-1:-window_len:-1]]\n",
    "    \n",
    "    if window == 'flat': #moving average\n",
    "        w=numpy.ones(window_len,'d')\n",
    "    else:\n",
    "        w=eval('numpy.'+window+'(window_len)')\n",
    "\n",
    "    y=numpy.convolve(w/w.sum(),s,mode='valid')\n",
    "    return y"
   ]
  },
  {
   "cell_type": "code",
   "execution_count": null,
   "metadata": {},
   "outputs": [],
   "source": [
    "figsize(16, 6)\n",
    "plot(smooth(d_real_losses), label='D(x) Loss')\n",
    "plot(smooth(d_fake_losses), label='D(G(z)) Loss')\n",
    "plot(smooth(g_losses), label='G(z) loss')\n",
    "plot(smooth(divergences), label='divergences')\n",
    "\n",
    "grid()\n",
    "legend()"
   ]
  },
  {
   "cell_type": "code",
   "execution_count": null,
   "metadata": {},
   "outputs": [],
   "source": [
    "plot(d_real_losses, label='D(x) Loss')\n",
    "plot(d_fake_losses, label='D(G(z)) Loss')\n",
    "plot(g_losses, label='G(z) loss')\n",
    "plot(divergences, label='divergences')\n",
    "\n",
    "yscale('log')\n",
    "grid()\n",
    "legend()"
   ]
  },
  {
   "cell_type": "markdown",
   "metadata": {},
   "source": [
    "# Evaluate"
   ]
  },
  {
   "cell_type": "code",
   "execution_count": 19,
   "metadata": {},
   "outputs": [],
   "source": [
    "y = np.random.randint(0, 10, BATCH_SIZE)\n",
    "y_onehot = np.zeros((BATCH_SIZE, LABEL_SIZE))\n",
    "y_onehot[np.arange(BATCH_SIZE), y] = 1\n",
    "y_onehot = Variable(torch.FloatTensor(y_onehot))\n",
    "if CUDA:\n",
    "    y_onehot = y_onehot.cuda()"
   ]
  },
  {
   "cell_type": "code",
   "execution_count": 20,
   "metadata": {},
   "outputs": [
    {
     "data": {
      "image/png": "[encoded data removed]",
      "text/plain": [
       "<matplotlib.figure.Figure at 0x7f04d0a6d198>"
      ]
     },
     "metadata": {},
     "output_type": "display_data"
    },
    {
     "data": {
      "image/png": "[encoded data removed]",
      "text/plain": [
       "<matplotlib.figure.Figure at 0x7f0485b708d0>"
      ]
     },
     "metadata": {},
     "output_type": "display_data"
    }
   ],
   "source": [
    "fake_distributions = Variable(torch.randn((BATCH_SIZE, 100)).cuda())\n",
    "images = G(fake_distributions, y_onehot).view((-1, 28, 28)).data.cpu().numpy()\n",
    "\n",
    "imshow(images[0], cmap=cm.gray_r)\n",
    "\n",
    "fig, subplots = pylab.subplots(4, 6) # subplots(y축, x축 갯수)\n",
    "fig.tight_layout()\n",
    "fig.set_figheight(6)\n",
    "fig.set_figwidth(9)\n",
    "\n",
    "idx = 0\n",
    "for _subs in subplots:\n",
    "    for subplot in _subs:\n",
    "        d = images[idx]\n",
    "        label = y[idx]\n",
    "        subplot.get_xaxis().set_visible(False)\n",
    "        subplot.get_yaxis().set_visible(False)\n",
    "        subplot.set_title(label)\n",
    "        subplot.imshow(d, cmap=cm.gray_r)\n",
    "        idx += 1\n"
   ]
  }
 ],
 "metadata": {
  "kernelspec": {
   "display_name": "Python 3",
   "language": "python",
   "name": "python3"
  },
  "language_info": {
   "codemirror_mode": {
    "name": "ipython",
    "version": 3
   },
   "file_extension": ".py",
   "mimetype": "text/x-python",
   "name": "python",
   "nbconvert_exporter": "python",
   "pygments_lexer": "ipython3",
   "version": "3.6.4"
  }
 },
 "nbformat": 4,
 "nbformat_minor": 2
}
