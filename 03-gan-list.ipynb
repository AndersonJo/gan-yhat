{
 "cells": [
  {
   "cell_type": "markdown",
   "metadata": {},
   "source": [
    "https://github.com/wiseodd/generative-models\n",
    "https://www.kdnuggets.com/2017/11/infogan-generative-adversarial-networks-part3.html\n",
    "https://wiseodd.github.io/techblog/2016/12/24/conditional-gan-tensorflow/\n",
    "https://github.com/junyanz/pytorch-CycleGAN-and-pix2pix"
   ]
  }
 ],
 "metadata": {
  "kernelspec": {
   "display_name": "Python 3",
   "language": "python",
   "name": "python3"
  },
  "language_info": {
   "codemirror_mode": {
    "name": "ipython",
    "version": 3
   },
   "file_extension": ".py",
   "mimetype": "text/x-python",
   "name": "python",
   "nbconvert_exporter": "python",
   "pygments_lexer": "ipython3",
   "version": "3.6.1"
  }
 },
 "nbformat": 4,
 "nbformat_minor": 2
}
