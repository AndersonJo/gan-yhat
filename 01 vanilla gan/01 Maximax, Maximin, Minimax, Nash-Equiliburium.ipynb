{
 "cells": [
  {
   "cell_type": "markdown",
   "metadata": {
    "deletable": true,
    "editable": true
   },
   "source": [
    "## Maximax (Optimistic)\n",
    "\n",
    "\n",
    "| Alternatives | Growing | Stable | Declining | Best|\n",
    "|:-------------|:-------:|:------:|:---------:|:---:|\n",
    "| Bonds        | 40      | 45     | 5         | <span style=\"color:red\"> 45 </span> |\n",
    "| Stocks       | 70      | 30     | -13       | <span style=\"color:red\"> 70 </span> |\n",
    "| Mutual Funds | 53      | 45     | -5        | <span style=\"color:red\"> 53 </span> |\n",
    "\n",
    "Maximax에서는 가장 큰 값을 고릅니다. <br>\n",
    "예제에서는 Best 값이 70이기 때문에 **Stocks**에 투자를 하게 됩니다."
   ]
  },
  {
   "cell_type": "markdown",
   "metadata": {
    "deletable": true,
    "editable": true
   },
   "source": [
    "## Maximin\n",
    "\n",
    "어떤 플레이어의 **Maximin value**란.. 다른 플레이어들의 actions이 뭔지 모르는 상태에서 플레이어가 얻을수 있는 가장 큰 값입니다. \n",
    "\n",
    "> The maximin value of a player is the largest value that the player can be sure to get without knowing the actions of the other players; equivalently, it is the smallest value the other players can force the player to receive when they know his action.\n",
    "\n",
    "$$ v_i = \\underset{a_i}{\\text{max}} \\ \\underset{a_{-i}}{\\text{min}} \\ v_i (a_i, a_{-i}) $$\n",
    "\n",
    "\n",
    "* $ i $ is the index of the player of interest.\n",
    "* $ -i $ -i denotes all other players except player $ i $\n",
    "* $ a_{i} $ is the action taken by player $ i $\n",
    "* $ a_{-i} $ denotes the actions taken by all other players.\n",
    "* $ v_{i} $ is the value function of player $ i $\n",
    "\n",
    "\n",
    "| Alternatives | Growing | Stable | Declining | Worst |\n",
    "|:-------------|:-------:|:------:|:---------:|:-----:|\n",
    "| Bonds        | 40      | 45     | 5         | <span style=\"color:red\"> 5 </span> |\n",
    "| Stocks       | 70      | 30     | -13       | <span style=\"color:red\"> -13 </span> |\n",
    "| Mutual Funds | 53      | 45     | -5        | <span style=\"color:red\"> -5 </span> |\n",
    "\n",
    "최악의 경우중에서 (Worst) 가장 좋은 것을 선택을 합니다. <br>\n",
    "Maximin strategy에서는 **Bonds**에 투자를 하게 됩니다."
   ]
  },
  {
   "cell_type": "markdown",
   "metadata": {
    "deletable": true,
    "editable": true
   },
   "source": [
    "다른 예로서 다음과 같은  Actions들이 있습니다.\n",
    "\n",
    "|   | L       | R      | Worst   |\n",
    "|:-:|:--------|:-------|--------:|\n",
    "| T | 3, 1    | 2, -20 | <span style=\"color:red\"> 1, -20 </span>|\n",
    "| M | 5, 0    | -10, 1 | <span style=\"color:red\">-10, 0 </span> |\n",
    "| B | -100, 2 | 4, 4   | <span style=\"color:red\">-100, 2 </span> |\n",
    "\n",
    "* row player는 T를 선택하며, 최소한 2를 얻을수 있습니다. \n",
    "* column player는 L을 선택하며, 최소한 0을 얻을수 있습니다."
   ]
  },
  {
   "cell_type": "markdown",
   "metadata": {
    "deletable": true,
    "editable": true
   },
   "source": [
    "## Minimax (oppotunity loss)\n",
    "\n",
    "$$ v_i = \\underset{a_{-i}}{\\text{min}} \\ \\underset{a_i}{\\text{max}} \\ v_i (a_i, a_{-i}) $$\n",
    "\n",
    "> The minimax value of a player is the smallest value that the other players can force the player to receive, without knowing his actions; equivalently, it is the largest value the player can be sure to get when he knows the actions of the other players\n",
    "\n",
    "만약 경제상황이 정말 좋았고 주식에 투자했다면 70을 얻었을 것입니다. (가장 크게 받을수 있는 값) <br>\n",
    "Minimax는 여기서 regret 비용에 대해서 이야기 합니다.\n",
    "\n",
    "$$ \\text{regret} = \\text{Best Payoff} - \\text{Payoff Received} $$\n",
    "\n",
    "\n",
    "| Alternatives | Growing | Stable | Declining | Maximum in Regret |\n",
    "|:-------------|:-------:|:------:|:---------:|:-----:|\n",
    "| Bonds        | 40<br><small style=\"color:blue\">70 - 40 = 30<small>      | 45 <br><small style=\"color:blue\">45 - 45 = 0<small>     | 5 <br><small style=\"color:blue\">5 - 5 = 0<small>         | <span style=\"color:red\"> 30 </span> |\n",
    "| Stocks       | 70 <br><small style=\"color:blue\">70 - 70 = 0<small>      | 30 <br><small style=\"color:blue\">45 - 30 = 15<small>     | -13 <br><small style=\"color:blue\">5 - (-13) = 18<small>       | <span style=\"color:red\"> 18 </span> |\n",
    "| Mutual Funds | 53 <br><small style=\"color:blue\">70 - 53 = 17<small>      | 45 <br><small style=\"color:blue\">45 - 45 = 0<small>     | -5 <br><small style=\"color:blue\">5 - 5 = 0<small>        | <span style=\"color:red\"> 17 </span> |\n",
    "\n",
    "Regret값중에 가장 낮은 값은 17 (Mutual Funds)이므로, Minimax strategy의 경우에는 **Mutual funds**에 투자를 하게 됩니다."
   ]
  },
  {
   "cell_type": "markdown",
   "metadata": {
    "deletable": true,
    "editable": true
   },
   "source": [
    "Nash Equilibrium을 계산하기 위해서는 \n",
    "\n",
    "\n",
    "아래의 예제에서 숫자들은 Bob이 Alice에게 주는 돈입니다. 즉 뭘해도 Bob은 손실.. Alice는 이득입니다.\n",
    "\n",
    "<img src=\"./images/bob_alice.png\">"
   ]
  },
  {
   "cell_type": "markdown",
   "metadata": {
    "deletable": true,
    "editable": true
   },
   "source": [
    "## Minimax in zero-sum games (Nash Equilibrium)\n",
    "\n",
    "* [Mixed strategies and expected payoffs](http://people.math.umass.edu/~lr7q/ps_files/teaching/math456/lecture5.pdf)\n",
    "* [ Two Player Zero Sum Games](http://homepages.math.uic.edu/~marker/stat473-S13/zero-sum.pdf)\n",
    "\n",
    "\n",
    "Zero-sum game안에서의 Minimax는 Nash Equilibrium 공식과 동일하며 승자와 패자의 손실을 합했을때 0이 되어야 합니다.<br>\n",
    "예를 들어서 고스톱, 체스처럼 누군가 돈을 벌면 누군가는 동일하게 손실을 봐야 하거나, 누군가 이기면 누군가는 져야 합니다. \n",
    "\n",
    "#### Zero-Sum Games의 정의\n",
    "\n"
   ]
  },
  {
   "cell_type": "code",
   "execution_count": null,
   "metadata": {
    "collapsed": true
   },
   "outputs": [],
   "source": []
  }
 ],
 "metadata": {
  "kernelspec": {
   "display_name": "Python 3",
   "language": "python",
   "name": "python3"
  },
  "language_info": {
   "codemirror_mode": {
    "name": "ipython",
    "version": 3
   },
   "file_extension": ".py",
   "mimetype": "text/x-python",
   "name": "python",
   "nbconvert_exporter": "python",
   "pygments_lexer": "ipython3",
   "version": "3.6.0"
  }
 },
 "nbformat": 4,
 "nbformat_minor": 2
}
